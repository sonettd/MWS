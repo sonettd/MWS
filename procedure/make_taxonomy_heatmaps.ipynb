{
 "cells": [
  {
   "cell_type": "markdown",
   "metadata": {},
   "source": [
    "## Make Taxonomy Heatmap\n",
    "\n",
    "This script assumes that the taxonomy information is in the taxonomy_folder specified below, and that each .csv file is named by taxonomic level (level-1.csv, etc).\n",
    "\n",
    "Further, because different versions of SILVA and Greengenes use different prefixes for taxonomic levels, the taxon_prefix parameter (defined below) must be set based on the version of SILVA or Greengenes used in the annotations. If this is unclear, just open the .csvs and look at the taxonomy strings. The text before the name for a given taxonomic value is the taxonomy prefix (e.g. p__Bacteroides means phylum bacteroides in greengenes_13_8)"
   ]
  },
  {
   "cell_type": "code",
   "execution_count": 1,
   "metadata": {},
   "outputs": [],
   "source": [
    "from IPython.core.display import display\n",
    "import pandas as pd\n",
    "import seaborn as sns\n",
    "import math\n",
    "import matplotlib.pyplot as plt\n",
    "from os.path import abspath,join\n",
    "taxonomy_folder = abspath(\"../output/silva_abundance/FILTERED_10_FREQ/\")\n",
    "output_folder = abspath('../output/')\n",
    "taxon_prefix = \"D_0__\"\n",
    "\n"
   ]
  },
  {
   "cell_type": "markdown",
   "metadata": {},
   "source": [
    "First let's define a function to make and output a heatmap graphic. We'll then run several versions for each taxonomic level."
   ]
  },
  {
   "cell_type": "code",
   "execution_count": 2,
   "metadata": {},
   "outputs": [],
   "source": [
    "def make_taxonomy_heatmap(input_path,output_path,raw_data_path, log2_transform = True,\\\n",
    "  log_scaling_0_replacement_value = -16, cmap = \"mako\", \n",
    "  row_cluster=False, col_cluster = False,\\\n",
    "  z_score = None, dpi=600,figsize = (480,120),fontsize=2,taxon_prefix = \"d__\"):\n",
    "    \"\"\"Generate a taxonomy heatmap and csv file\n",
    "    \n",
    "    input_path -- a taxonomy csv file\n",
    "    \n",
    "    output_path -- the relative path to which to output the graph. \n",
    "      The raw data supporting the graph will be output to a filename based on this path\n",
    "    \n",
    "    raw_data_path -- path to save raw data .tsv to\n",
    "    \n",
    "    log2_transform -- if True, log2 transform data (e.g. 50% => -2, 25% => -3, etc) and \n",
    "      replace 0 values (which cannot be log transformed) with a low number specified by log_scaling_0_replacement_value\n",
    "    \n",
    "    log_scaling_0_replacement_value -- what to replace 0 values with.\n",
    "    \n",
    "    cmap - colorscheme to use. Examples: \"Blues\",\"Blues_r\",\"veridis\",etc\n",
    "    \n",
    "    taxonomy_csv -- the path to the input taxonomy csv\n",
    "    \n",
    "    output_name -- the name of the output file\n",
    "    \n",
    "    z_score -- can be False (no Z-score normalization), 1 (normalize column by z-score), or 0 (normalize rows)\n",
    "    \n",
    "    standard_score -- can be False (no standard score normalization), 1 (normalize columns), or 0 (normalize rows)\n",
    "    \n",
    "    taxon_prefix -- Further, because different versions of SILVA and Greengenes use different prefixes \n",
    "      for taxonomic levels, the taxon_prefix parameter (defined below) must be set based on the version \n",
    "      of SILVA or Greengenes used in the annotations. If this is unclear, \n",
    "      open the .csvs and look at the taxonomy strings. The text before the name for a given taxonomic value \n",
    "      is the taxonomy prefix (e.g. p__Bacteroides means phylum bacteroides in greengenes_13_8)\n",
    "    \"\"\"\n",
    "    \n",
    "    #Load the data and set an index\n",
    "    data = pd.read_csv(input_path)\n",
    "    labels = pd.DataFrame(data.loc[:,\"index\"])\n",
    "    \n",
    "    #Test that the taxon prefix is set correctly\n",
    "    found_prefix = False\n",
    "    for c in data.columns:\n",
    "        if taxon_prefix in c:\n",
    "            found_prefix = True\n",
    "    \n",
    "    if not found_prefix:\n",
    "        raise ValueError(\\\n",
    "          f\"\"\"The user-specified taxon prefix {taxon_prefix} doesn't occur in any of the taxon labels. \n",
    "          The most likely explanation is that a different taxon prefix was used in the reference taxonomy. \n",
    "          Please check the taxon labels and check that all but Unassigned start with the taxon prefix. \n",
    "          Here are the taxon labels this script tested: {data.columns}\"\"\")\n",
    "    \n",
    "    data.rename(columns={\"Unassigned;__\":f\"{taxon_prefix}Unassigned\"},inplace=True)\n",
    "    #Remove metadata columns by selecting only taxonomy columns\n",
    "    data = data.loc[:, data.columns.str.startswith(taxon_prefix)]\n",
    "    \n",
    "    \n",
    "    \n",
    "    #Add back on the feature labels\n",
    "    data = labels.join(data,how=\"left\")\n",
    "    data.rename(columns={\"index\":\"SampleID\"},inplace=True)\n",
    "    data.set_index(\"SampleID\",inplace=True)\n",
    "    \n",
    "    #Since these data are unrarified, normalize by proportion in each sample\n",
    "    data = data.div(data.sum(axis=1), axis=0)\n",
    "    \n",
    "    if log2_transform:\n",
    "        #take the log of the dataframe, substituting 0's (which are undefined in log space)\n",
    "        #hattip to stackoverflow: \n",
    "        #https://stackoverflow.com/questions/49207688/pandas-efficiently-avoid-0s-when-taking-log-of-cells-in-dataframe\n",
    "        def get_log(df):\n",
    "            return (df.mask(df == 0).applymap(math.log2).fillna(log_scaling_0_replacement_value))\n",
    "        data = get_log(data)\n",
    "        \n",
    "        \n",
    "\n",
    "    #Switch rows and colums\n",
    "    data = data.transpose(copy=True)\n",
    "    \n",
    "    #Save exact copy of data used in figure\n",
    "    #AFTER all relevant transformations have been applied \n",
    "    #(other than clustering and z_score if selected)\n",
    "    print(\"Saving raw data to output_path:\")\n",
    "    data.to_csv(raw_data_path,sep=\"\\t\")\n",
    "    \n",
    "      \n",
    "    #Make the graph\n",
    "    plt.clf()\n",
    "    graph = sns.clustermap(data = data,cmap=cmap,metric = \"correlation\",z_score=z_score,xticklabels=1,yticklabels=1,\n",
    "      row_cluster=row_cluster,col_cluster=col_cluster)\n",
    "    \n",
    " \n",
    "    plt.setp(graph.ax_heatmap.get_yticklabels(), fontsize=fontsize)\n",
    "    \n",
    "    #Save result\n",
    "    print(\"Saving file to output path:\",output_path)\n",
    "    graph.savefig(output_path,\n",
    "            dpi=dpi, figsize=figsize)\n",
    "    plt.clf()\n",
    "    \n",
    "    "
   ]
  },
  {
   "cell_type": "code",
   "execution_count": 3,
   "metadata": {},
   "outputs": [
    {
     "name": "stdout",
     "output_type": "stream",
     "text": [
      "Analyzing taxonomy at level 2\n",
      "Saving raw data to output_path:\n",
      "Saving file to output path: /Users/jzaneveld/Dropbox/Zaneveld_Lab_Organization/Projects/Padilla_Gamino_Disease/MWS/output/heatmap_of_level-2.csv_log2.jpg\n",
      "Saving raw data to output_path:\n",
      "Saving file to output path: /Users/jzaneveld/Dropbox/Zaneveld_Lab_Organization/Projects/Padilla_Gamino_Disease/MWS/output/heatmap_of_level-2.csv_log2_row_cluster.jpg\n",
      "Saving raw data to output_path:\n",
      "Saving file to output path: /Users/jzaneveld/Dropbox/Zaneveld_Lab_Organization/Projects/Padilla_Gamino_Disease/MWS/output/heatmap_of_level-2.csv.jpg\n",
      "Saving raw data to output_path:\n",
      "Saving file to output path: /Users/jzaneveld/Dropbox/Zaneveld_Lab_Organization/Projects/Padilla_Gamino_Disease/MWS/output/heatmap_of_level-2.csv_row_cluster.jpg\n",
      "Analyzing taxonomy at level 3\n",
      "Saving raw data to output_path:\n",
      "Saving file to output path: /Users/jzaneveld/Dropbox/Zaneveld_Lab_Organization/Projects/Padilla_Gamino_Disease/MWS/output/heatmap_of_level-3.csv_log2.jpg\n",
      "Saving raw data to output_path:\n",
      "Saving file to output path: /Users/jzaneveld/Dropbox/Zaneveld_Lab_Organization/Projects/Padilla_Gamino_Disease/MWS/output/heatmap_of_level-3.csv_log2_row_cluster.jpg\n",
      "Saving raw data to output_path:\n",
      "Saving file to output path: /Users/jzaneveld/Dropbox/Zaneveld_Lab_Organization/Projects/Padilla_Gamino_Disease/MWS/output/heatmap_of_level-3.csv.jpg\n",
      "Saving raw data to output_path:\n",
      "Saving file to output path: /Users/jzaneveld/Dropbox/Zaneveld_Lab_Organization/Projects/Padilla_Gamino_Disease/MWS/output/heatmap_of_level-3.csv_row_cluster.jpg\n",
      "Analyzing taxonomy at level 4\n",
      "Saving raw data to output_path:\n",
      "Saving file to output path: /Users/jzaneveld/Dropbox/Zaneveld_Lab_Organization/Projects/Padilla_Gamino_Disease/MWS/output/heatmap_of_level-4.csv_log2.jpg\n",
      "Saving raw data to output_path:\n",
      "Saving file to output path: /Users/jzaneveld/Dropbox/Zaneveld_Lab_Organization/Projects/Padilla_Gamino_Disease/MWS/output/heatmap_of_level-4.csv_log2_row_cluster.jpg\n",
      "Saving raw data to output_path:\n",
      "Saving file to output path: /Users/jzaneveld/Dropbox/Zaneveld_Lab_Organization/Projects/Padilla_Gamino_Disease/MWS/output/heatmap_of_level-4.csv.jpg\n",
      "Saving raw data to output_path:\n",
      "Saving file to output path: /Users/jzaneveld/Dropbox/Zaneveld_Lab_Organization/Projects/Padilla_Gamino_Disease/MWS/output/heatmap_of_level-4.csv_row_cluster.jpg\n",
      "Analyzing taxonomy at level 5\n",
      "Saving raw data to output_path:\n",
      "Saving file to output path: /Users/jzaneveld/Dropbox/Zaneveld_Lab_Organization/Projects/Padilla_Gamino_Disease/MWS/output/heatmap_of_level-5.csv_log2.jpg\n",
      "Saving raw data to output_path:\n",
      "Saving file to output path: /Users/jzaneveld/Dropbox/Zaneveld_Lab_Organization/Projects/Padilla_Gamino_Disease/MWS/output/heatmap_of_level-5.csv_log2_row_cluster.jpg\n",
      "Saving raw data to output_path:\n",
      "Saving file to output path: /Users/jzaneveld/Dropbox/Zaneveld_Lab_Organization/Projects/Padilla_Gamino_Disease/MWS/output/heatmap_of_level-5.csv.jpg\n",
      "Saving raw data to output_path:\n",
      "Saving file to output path: /Users/jzaneveld/Dropbox/Zaneveld_Lab_Organization/Projects/Padilla_Gamino_Disease/MWS/output/heatmap_of_level-5.csv_row_cluster.jpg\n",
      "Analyzing taxonomy at level 7\n",
      "Saving raw data to output_path:\n",
      "Saving file to output path: /Users/jzaneveld/Dropbox/Zaneveld_Lab_Organization/Projects/Padilla_Gamino_Disease/MWS/output/heatmap_of_level-7.csv_log2.jpg\n",
      "Saving raw data to output_path:\n",
      "Saving file to output path: /Users/jzaneveld/Dropbox/Zaneveld_Lab_Organization/Projects/Padilla_Gamino_Disease/MWS/output/heatmap_of_level-7.csv_log2_row_cluster.jpg\n",
      "Saving raw data to output_path:\n",
      "Saving file to output path: /Users/jzaneveld/Dropbox/Zaneveld_Lab_Organization/Projects/Padilla_Gamino_Disease/MWS/output/heatmap_of_level-7.csv.jpg\n",
      "Saving raw data to output_path:\n"
     ]
    },
    {
     "name": "stderr",
     "output_type": "stream",
     "text": [
      "/Users/jzaneveld/anaconda3/lib/python3.7/site-packages/matplotlib/pyplot.py:514: RuntimeWarning: More than 20 figures have been opened. Figures created through the pyplot interface (`matplotlib.pyplot.figure`) are retained until explicitly closed and may consume too much memory. (To control this warning, see the rcParam `figure.max_open_warning`).\n",
      "  max_open_warning, RuntimeWarning)\n"
     ]
    },
    {
     "name": "stdout",
     "output_type": "stream",
     "text": [
      "Saving file to output path: /Users/jzaneveld/Dropbox/Zaneveld_Lab_Organization/Projects/Padilla_Gamino_Disease/MWS/output/heatmap_of_level-7.csv_row_cluster.jpg\n"
     ]
    },
    {
     "data": {
      "text/plain": [
       "<Figure size 432x288 with 0 Axes>"
      ]
     },
     "metadata": {},
     "output_type": "display_data"
    },
    {
     "data": {
      "text/plain": [
       "<Figure size 720x720 with 0 Axes>"
      ]
     },
     "metadata": {},
     "output_type": "display_data"
    },
    {
     "data": {
      "text/plain": [
       "<Figure size 720x720 with 0 Axes>"
      ]
     },
     "metadata": {},
     "output_type": "display_data"
    },
    {
     "data": {
      "text/plain": [
       "<Figure size 720x720 with 0 Axes>"
      ]
     },
     "metadata": {},
     "output_type": "display_data"
    },
    {
     "data": {
      "text/plain": [
       "<Figure size 720x720 with 0 Axes>"
      ]
     },
     "metadata": {},
     "output_type": "display_data"
    },
    {
     "data": {
      "text/plain": [
       "<Figure size 720x720 with 0 Axes>"
      ]
     },
     "metadata": {},
     "output_type": "display_data"
    },
    {
     "data": {
      "text/plain": [
       "<Figure size 720x720 with 0 Axes>"
      ]
     },
     "metadata": {},
     "output_type": "display_data"
    },
    {
     "data": {
      "text/plain": [
       "<Figure size 720x720 with 0 Axes>"
      ]
     },
     "metadata": {},
     "output_type": "display_data"
    },
    {
     "data": {
      "text/plain": [
       "<Figure size 720x720 with 0 Axes>"
      ]
     },
     "metadata": {},
     "output_type": "display_data"
    },
    {
     "data": {
      "text/plain": [
       "<Figure size 720x720 with 0 Axes>"
      ]
     },
     "metadata": {},
     "output_type": "display_data"
    },
    {
     "data": {
      "text/plain": [
       "<Figure size 720x720 with 0 Axes>"
      ]
     },
     "metadata": {},
     "output_type": "display_data"
    },
    {
     "data": {
      "text/plain": [
       "<Figure size 720x720 with 0 Axes>"
      ]
     },
     "metadata": {},
     "output_type": "display_data"
    },
    {
     "data": {
      "text/plain": [
       "<Figure size 720x720 with 0 Axes>"
      ]
     },
     "metadata": {},
     "output_type": "display_data"
    },
    {
     "data": {
      "text/plain": [
       "<Figure size 720x720 with 0 Axes>"
      ]
     },
     "metadata": {},
     "output_type": "display_data"
    },
    {
     "data": {
      "text/plain": [
       "<Figure size 720x720 with 0 Axes>"
      ]
     },
     "metadata": {},
     "output_type": "display_data"
    },
    {
     "data": {
      "text/plain": [
       "<Figure size 720x720 with 0 Axes>"
      ]
     },
     "metadata": {},
     "output_type": "display_data"
    },
    {
     "data": {
      "text/plain": [
       "<Figure size 720x720 with 0 Axes>"
      ]
     },
     "metadata": {},
     "output_type": "display_data"
    },
    {
     "data": {
      "text/plain": [
       "<Figure size 720x720 with 0 Axes>"
      ]
     },
     "metadata": {},
     "output_type": "display_data"
    },
    {
     "data": {
      "text/plain": [
       "<Figure size 720x720 with 0 Axes>"
      ]
     },
     "metadata": {},
     "output_type": "display_data"
    },
    {
     "data": {
      "text/plain": [
       "<Figure size 720x720 with 0 Axes>"
      ]
     },
     "metadata": {},
     "output_type": "display_data"
    },
    {
     "data": {
      "text/plain": [
       "<Figure size 720x720 with 0 Axes>"
      ]
     },
     "metadata": {},
     "output_type": "display_data"
    }
   ],
   "source": [
    "levels_to_analyze = [2,3,4,5,7] \n",
    "for level in levels_to_analyze:\n",
    "    print(f\"Analyzing taxonomy at level {level}\")\n",
    "    current_file = f\"level-{level}.csv\"\n",
    "    input_path = join(taxonomy_folder,current_file)\n",
    "    \n",
    "    #Use smaller font for more specific levels\n",
    "    fontsize = round(7.0/level)\n",
    "    \n",
    "    #Output log transformed results\n",
    "    \n",
    "    #Set the cmap to a dark colorscheme which looks better with \n",
    "    #log data\n",
    "    cmap = \"mako\"\n",
    "    \n",
    "    output_path = join(output_folder,f'heatmap_of_{current_file}_log2.jpg')\n",
    "    raw_data_path = join(output_folder,f'raw_data_of_{current_file}_log2.tsv')\n",
    "    make_taxonomy_heatmap(input_path,output_path,raw_data_path,log2_transform=True,\\\n",
    "      fontsize=fontsize,cmap=cmap,taxon_prefix=taxon_prefix)\n",
    "    \n",
    "    output_path = join(output_folder,f'heatmap_of_{current_file}_log2_row_cluster.jpg')\n",
    "    raw_data_path = join(output_folder,f'raw_data_of_{current_file}_log2_row_cluster.tsv')\n",
    "    make_taxonomy_heatmap(input_path,output_path,raw_data_path,log2_transform=True,\\\n",
    "      row_cluster=True,fontsize=fontsize,cmap=cmap,taxon_prefix=taxon_prefix)\n",
    "   \n",
    "    #Output raw clustermaps\n",
    "    #Use a light colorscheme which makes it easier to see very small numbers as faint 'bands'\n",
    "    cmap = \"Blues\"\n",
    "    output_path = join(output_folder,f'heatmap_of_{current_file}.jpg')\n",
    "    raw_data_path = join(output_folder,f'raw_data_of_{current_file}.tsv')\n",
    "    make_taxonomy_heatmap(input_path,output_path,raw_data_path,log2_transform=False,\\\n",
    "      fontsize=fontsize,cmap=cmap,taxon_prefix=taxon_prefix)\n",
    "    \n",
    "    output_path = join(output_folder,f'heatmap_of_{current_file}_row_cluster.jpg')\n",
    "    raw_data_path = join(output_folder,f'raw_data_of_{current_file}_row_cluster.tsv')\n",
    "    make_taxonomy_heatmap(input_path,output_path,raw_data_path,log2_transform=False,row_cluster=True,\\\n",
    "      fontsize=fontsize,cmap=cmap,taxon_prefix = taxon_prefix)\n",
    "    \n",
    "    "
   ]
  },
  {
   "cell_type": "code",
   "execution_count": null,
   "metadata": {},
   "outputs": [],
   "source": []
  }
 ],
 "metadata": {
  "kernelspec": {
   "display_name": "Python 3",
   "language": "python",
   "name": "python3"
  },
  "language_info": {
   "codemirror_mode": {
    "name": "ipython",
    "version": 3
   },
   "file_extension": ".py",
   "mimetype": "text/x-python",
   "name": "python",
   "nbconvert_exporter": "python",
   "pygments_lexer": "ipython3",
   "version": "3.7.2"
  }
 },
 "nbformat": 4,
 "nbformat_minor": 2
}
